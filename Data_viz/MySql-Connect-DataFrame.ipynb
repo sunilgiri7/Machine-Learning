{
 "cells": [
  {
   "cell_type": "code",
   "execution_count": 21,
   "id": "2cc8a61d",
   "metadata": {},
   "outputs": [],
   "source": [
    "import numpy as np\n",
    "import pandas as pd\n",
    "import matplotlib.pyplot as plt\n",
    "import mysql.connector"
   ]
  },
  {
   "cell_type": "code",
   "execution_count": 45,
   "id": "64eec9bc",
   "metadata": {},
   "outputs": [
    {
     "name": "stderr",
     "output_type": "stream",
     "text": [
      "C:\\Users\\ASUS\\AppData\\Local\\Temp\\ipykernel_14352\\3695000469.py:8: UserWarning: pandas only supports SQLAlchemy connectable (engine/connection) or database string URI or sqlite3 DBAPI2 connection. Other DBAPI2 objects are not tested. Please consider using SQLAlchemy.\n",
      "  df = pd.read_sql(\"select * from employees\", con=cnx)\n"
     ]
    },
    {
     "data": {
      "text/html": [
       "<div>\n",
       "<style scoped>\n",
       "    .dataframe tbody tr th:only-of-type {\n",
       "        vertical-align: middle;\n",
       "    }\n",
       "\n",
       "    .dataframe tbody tr th {\n",
       "        vertical-align: top;\n",
       "    }\n",
       "\n",
       "    .dataframe thead th {\n",
       "        text-align: right;\n",
       "    }\n",
       "</style>\n",
       "<table border=\"1\" class=\"dataframe\">\n",
       "  <thead>\n",
       "    <tr style=\"text-align: right;\">\n",
       "      <th></th>\n",
       "      <th>employee_id</th>\n",
       "      <th>first_name</th>\n",
       "      <th>last_name</th>\n",
       "      <th>job_title</th>\n",
       "      <th>salary</th>\n",
       "      <th>reports_to</th>\n",
       "      <th>office_id</th>\n",
       "    </tr>\n",
       "  </thead>\n",
       "  <tbody>\n",
       "    <tr>\n",
       "      <th>0</th>\n",
       "      <td>33391</td>\n",
       "      <td>D'arcy</td>\n",
       "      <td>Nortunen</td>\n",
       "      <td>Account Executive</td>\n",
       "      <td>62871</td>\n",
       "      <td>37270.0</td>\n",
       "      <td>1</td>\n",
       "    </tr>\n",
       "    <tr>\n",
       "      <th>1</th>\n",
       "      <td>37270</td>\n",
       "      <td>Yovonnda</td>\n",
       "      <td>Magrannell</td>\n",
       "      <td>Executive Secretary</td>\n",
       "      <td>63996</td>\n",
       "      <td>NaN</td>\n",
       "      <td>10</td>\n",
       "    </tr>\n",
       "    <tr>\n",
       "      <th>2</th>\n",
       "      <td>37851</td>\n",
       "      <td>Sayer</td>\n",
       "      <td>Matterson</td>\n",
       "      <td>Statistician III</td>\n",
       "      <td>98926</td>\n",
       "      <td>37270.0</td>\n",
       "      <td>1</td>\n",
       "    </tr>\n",
       "    <tr>\n",
       "      <th>3</th>\n",
       "      <td>40448</td>\n",
       "      <td>Mindy</td>\n",
       "      <td>Crissil</td>\n",
       "      <td>Staff Scientist</td>\n",
       "      <td>94860</td>\n",
       "      <td>37270.0</td>\n",
       "      <td>1</td>\n",
       "    </tr>\n",
       "    <tr>\n",
       "      <th>4</th>\n",
       "      <td>56274</td>\n",
       "      <td>Keriann</td>\n",
       "      <td>Alloisi</td>\n",
       "      <td>VP Marketing</td>\n",
       "      <td>110150</td>\n",
       "      <td>37270.0</td>\n",
       "      <td>1</td>\n",
       "    </tr>\n",
       "  </tbody>\n",
       "</table>\n",
       "</div>"
      ],
      "text/plain": [
       "   employee_id first_name   last_name            job_title  salary  \\\n",
       "0        33391     D'arcy    Nortunen    Account Executive   62871   \n",
       "1        37270   Yovonnda  Magrannell  Executive Secretary   63996   \n",
       "2        37851      Sayer   Matterson     Statistician III   98926   \n",
       "3        40448      Mindy     Crissil      Staff Scientist   94860   \n",
       "4        56274    Keriann     Alloisi         VP Marketing  110150   \n",
       "\n",
       "   reports_to  office_id  \n",
       "0     37270.0          1  \n",
       "1         NaN         10  \n",
       "2     37270.0          1  \n",
       "3     37270.0          1  \n",
       "4     37270.0          1  "
      ]
     },
     "execution_count": 45,
     "metadata": {},
     "output_type": "execute_result"
    }
   ],
   "source": [
    "cnx = mysql.connector.connect(user='root',\n",
    "  password='newpassword',\n",
    "  host='localhost',\n",
    "  database='sql_hr')\n",
    "cursor = cnx.cursor()\n",
    "\n",
    "# Use the cursor to execute a SQL query\n",
    "df = pd.read_sql(\"select * from employees\", con=cnx)\n",
    "\n",
    "cnx.close()\n",
    "df.head()"
   ]
  },
  {
   "cell_type": "code",
   "execution_count": 40,
   "id": "9fd9dbed",
   "metadata": {},
   "outputs": [
    {
     "data": {
      "text/plain": [
       "(20, 7)"
      ]
     },
     "execution_count": 40,
     "metadata": {},
     "output_type": "execute_result"
    }
   ],
   "source": [
    "df.shape"
   ]
  },
  {
   "cell_type": "code",
   "execution_count": 41,
   "id": "b99d5e2d",
   "metadata": {},
   "outputs": [
    {
     "data": {
      "text/html": [
       "<div>\n",
       "<style scoped>\n",
       "    .dataframe tbody tr th:only-of-type {\n",
       "        vertical-align: middle;\n",
       "    }\n",
       "\n",
       "    .dataframe tbody tr th {\n",
       "        vertical-align: top;\n",
       "    }\n",
       "\n",
       "    .dataframe thead th {\n",
       "        text-align: right;\n",
       "    }\n",
       "</style>\n",
       "<table border=\"1\" class=\"dataframe\">\n",
       "  <thead>\n",
       "    <tr style=\"text-align: right;\">\n",
       "      <th></th>\n",
       "      <th>employee_id</th>\n",
       "      <th>salary</th>\n",
       "      <th>reports_to</th>\n",
       "      <th>office_id</th>\n",
       "    </tr>\n",
       "  </thead>\n",
       "  <tbody>\n",
       "    <tr>\n",
       "      <th>count</th>\n",
       "      <td>20.000000</td>\n",
       "      <td>20.000000</td>\n",
       "      <td>19.0</td>\n",
       "      <td>20.000000</td>\n",
       "    </tr>\n",
       "    <tr>\n",
       "      <th>mean</th>\n",
       "      <td>71003.150000</td>\n",
       "      <td>82502.350000</td>\n",
       "      <td>37270.0</td>\n",
       "      <td>3.250000</td>\n",
       "    </tr>\n",
       "    <tr>\n",
       "      <th>std</th>\n",
       "      <td>22105.773207</td>\n",
       "      <td>25100.063148</td>\n",
       "      <td>0.0</td>\n",
       "      <td>2.099499</td>\n",
       "    </tr>\n",
       "    <tr>\n",
       "      <th>min</th>\n",
       "      <td>33391.000000</td>\n",
       "      <td>32179.000000</td>\n",
       "      <td>37270.0</td>\n",
       "      <td>1.000000</td>\n",
       "    </tr>\n",
       "    <tr>\n",
       "      <th>25%</th>\n",
       "      <td>61465.500000</td>\n",
       "      <td>63714.750000</td>\n",
       "      <td>37270.0</td>\n",
       "      <td>2.000000</td>\n",
       "    </tr>\n",
       "    <tr>\n",
       "      <th>50%</th>\n",
       "      <td>72726.500000</td>\n",
       "      <td>89414.500000</td>\n",
       "      <td>37270.0</td>\n",
       "      <td>3.000000</td>\n",
       "    </tr>\n",
       "    <tr>\n",
       "      <th>75%</th>\n",
       "      <td>81707.000000</td>\n",
       "      <td>97306.750000</td>\n",
       "      <td>37270.0</td>\n",
       "      <td>4.000000</td>\n",
       "    </tr>\n",
       "    <tr>\n",
       "      <th>max</th>\n",
       "      <td>115357.000000</td>\n",
       "      <td>119241.000000</td>\n",
       "      <td>37270.0</td>\n",
       "      <td>10.000000</td>\n",
       "    </tr>\n",
       "  </tbody>\n",
       "</table>\n",
       "</div>"
      ],
      "text/plain": [
       "         employee_id         salary  reports_to  office_id\n",
       "count      20.000000      20.000000        19.0  20.000000\n",
       "mean    71003.150000   82502.350000     37270.0   3.250000\n",
       "std     22105.773207   25100.063148         0.0   2.099499\n",
       "min     33391.000000   32179.000000     37270.0   1.000000\n",
       "25%     61465.500000   63714.750000     37270.0   2.000000\n",
       "50%     72726.500000   89414.500000     37270.0   3.000000\n",
       "75%     81707.000000   97306.750000     37270.0   4.000000\n",
       "max    115357.000000  119241.000000     37270.0  10.000000"
      ]
     },
     "execution_count": 41,
     "metadata": {},
     "output_type": "execute_result"
    }
   ],
   "source": [
    "df.describe()"
   ]
  },
  {
   "cell_type": "code",
   "execution_count": 42,
   "id": "014a4cd5",
   "metadata": {},
   "outputs": [],
   "source": [
    "df.reset_index(drop=True, inplace=True)"
   ]
  },
  {
   "cell_type": "code",
   "execution_count": 44,
   "id": "f779d431",
   "metadata": {},
   "outputs": [
    {
     "data": {
      "text/html": [
       "<div>\n",
       "<style scoped>\n",
       "    .dataframe tbody tr th:only-of-type {\n",
       "        vertical-align: middle;\n",
       "    }\n",
       "\n",
       "    .dataframe tbody tr th {\n",
       "        vertical-align: top;\n",
       "    }\n",
       "\n",
       "    .dataframe thead th {\n",
       "        text-align: right;\n",
       "    }\n",
       "</style>\n",
       "<table border=\"1\" class=\"dataframe\">\n",
       "  <thead>\n",
       "    <tr style=\"text-align: right;\">\n",
       "      <th></th>\n",
       "      <th>employee_id</th>\n",
       "      <th>first_name</th>\n",
       "      <th>last_name</th>\n",
       "      <th>job_title</th>\n",
       "      <th>salary</th>\n",
       "      <th>reports_to</th>\n",
       "      <th>office_id</th>\n",
       "    </tr>\n",
       "  </thead>\n",
       "  <tbody>\n",
       "    <tr>\n",
       "      <th>0</th>\n",
       "      <td>33391</td>\n",
       "      <td>D'arcy</td>\n",
       "      <td>Nortunen</td>\n",
       "      <td>Account Executive</td>\n",
       "      <td>62871</td>\n",
       "      <td>37270.0</td>\n",
       "      <td>1</td>\n",
       "    </tr>\n",
       "    <tr>\n",
       "      <th>1</th>\n",
       "      <td>37270</td>\n",
       "      <td>Yovonnda</td>\n",
       "      <td>Magrannell</td>\n",
       "      <td>Executive Secretary</td>\n",
       "      <td>63996</td>\n",
       "      <td>NaN</td>\n",
       "      <td>10</td>\n",
       "    </tr>\n",
       "  </tbody>\n",
       "</table>\n",
       "</div>"
      ],
      "text/plain": [
       "   employee_id first_name   last_name            job_title  salary  \\\n",
       "0        33391     D'arcy    Nortunen    Account Executive   62871   \n",
       "1        37270   Yovonnda  Magrannell  Executive Secretary   63996   \n",
       "\n",
       "   reports_to  office_id  \n",
       "0     37270.0          1  \n",
       "1         NaN         10  "
      ]
     },
     "execution_count": 44,
     "metadata": {},
     "output_type": "execute_result"
    }
   ],
   "source": [
    "df.head(2)"
   ]
  },
  {
   "cell_type": "markdown",
   "id": "bb44eb89",
   "metadata": {},
   "source": [
    "## Job title with highest number of salary"
   ]
  },
  {
   "cell_type": "code",
   "execution_count": 63,
   "id": "c9254f0e",
   "metadata": {},
   "outputs": [
    {
     "data": {
      "text/plain": [
       "job_title\n",
       "Account Executive               62871\n",
       "Assistant Professor             32179\n",
       "Computer Systems Analyst IV     96401\n",
       "Cost Accountant                119241\n",
       "Executive Secretary             63996\n",
       "Financial Advisor               52832\n",
       "Food Chemist                    47354\n",
       "General Manager                 93760\n",
       "Geologist II                    67987\n",
       "Information Systems Manager     54578\n",
       "Junior Executive                77182\n",
       "Office Assistant I             117690\n",
       "Pharmacist                      86119\n",
       "Social Worker                   96767\n",
       "Staff Accountant IV             70187\n",
       "Staff Scientist                 94860\n",
       "Statistician III                98926\n",
       "Structural Engineer             92710\n",
       "VP Marketing                   110150\n",
       "VP Product Management          114257\n",
       "Name: salary, dtype: int64"
      ]
     },
     "execution_count": 63,
     "metadata": {},
     "output_type": "execute_result"
    }
   ],
   "source": [
    "df.groupby('job_title')['salary'].max()"
   ]
  },
  {
   "cell_type": "code",
   "execution_count": 64,
   "id": "e48b889c",
   "metadata": {},
   "outputs": [
    {
     "data": {
      "text/plain": [
       "'Cost Accountant'"
      ]
     },
     "execution_count": 64,
     "metadata": {},
     "output_type": "execute_result"
    }
   ],
   "source": [
    "df.groupby('job_title')['salary'].max().idxmax()"
   ]
  },
  {
   "cell_type": "code",
   "execution_count": 62,
   "id": "52601fe9",
   "metadata": {},
   "outputs": [
    {
     "data": {
      "text/html": [
       "<div>\n",
       "<style scoped>\n",
       "    .dataframe tbody tr th:only-of-type {\n",
       "        vertical-align: middle;\n",
       "    }\n",
       "\n",
       "    .dataframe tbody tr th {\n",
       "        vertical-align: top;\n",
       "    }\n",
       "\n",
       "    .dataframe thead th {\n",
       "        text-align: right;\n",
       "    }\n",
       "</style>\n",
       "<table border=\"1\" class=\"dataframe\">\n",
       "  <thead>\n",
       "    <tr style=\"text-align: right;\">\n",
       "      <th></th>\n",
       "      <th>employee_id</th>\n",
       "      <th>first_name</th>\n",
       "      <th>last_name</th>\n",
       "      <th>job_title</th>\n",
       "      <th>salary</th>\n",
       "      <th>reports_to</th>\n",
       "      <th>office_id</th>\n",
       "    </tr>\n",
       "  </thead>\n",
       "  <tbody>\n",
       "    <tr>\n",
       "      <th>12</th>\n",
       "      <td>76196</td>\n",
       "      <td>Mirilla</td>\n",
       "      <td>Janowski</td>\n",
       "      <td>Cost Accountant</td>\n",
       "      <td>119241</td>\n",
       "      <td>37270.0</td>\n",
       "      <td>3</td>\n",
       "    </tr>\n",
       "  </tbody>\n",
       "</table>\n",
       "</div>"
      ],
      "text/plain": [
       "    employee_id first_name last_name        job_title  salary  reports_to  \\\n",
       "12        76196    Mirilla  Janowski  Cost Accountant  119241     37270.0   \n",
       "\n",
       "    office_id  \n",
       "12          3  "
      ]
     },
     "execution_count": 62,
     "metadata": {},
     "output_type": "execute_result"
    }
   ],
   "source": [
    "df.loc[df['job_title']=='Cost Accountant']"
   ]
  },
  {
   "cell_type": "code",
   "execution_count": 70,
   "id": "f19aec0f",
   "metadata": {},
   "outputs": [
    {
     "data": {
      "text/plain": [
       "12    Cost Accountant\n",
       "Name: job_title, dtype: object"
      ]
     },
     "execution_count": 70,
     "metadata": {},
     "output_type": "execute_result"
    }
   ],
   "source": [
    "## Another way\n",
    "\n",
    "df.loc[df['salary'] == df['salary'].max(), 'job_title']"
   ]
  },
  {
   "cell_type": "code",
   "execution_count": null,
   "id": "36185868",
   "metadata": {},
   "outputs": [],
   "source": []
  },
  {
   "cell_type": "code",
   "execution_count": 81,
   "id": "e585a941",
   "metadata": {},
   "outputs": [
    {
     "data": {
      "text/html": [
       "<div>\n",
       "<style scoped>\n",
       "    .dataframe tbody tr th:only-of-type {\n",
       "        vertical-align: middle;\n",
       "    }\n",
       "\n",
       "    .dataframe tbody tr th {\n",
       "        vertical-align: top;\n",
       "    }\n",
       "\n",
       "    .dataframe thead th {\n",
       "        text-align: right;\n",
       "    }\n",
       "</style>\n",
       "<table border=\"1\" class=\"dataframe\">\n",
       "  <thead>\n",
       "    <tr style=\"text-align: right;\">\n",
       "      <th></th>\n",
       "      <th>employee_id</th>\n",
       "      <th>first_name</th>\n",
       "      <th>last_name</th>\n",
       "      <th>job_title</th>\n",
       "      <th>salary</th>\n",
       "      <th>reports_to</th>\n",
       "      <th>office_id</th>\n",
       "    </tr>\n",
       "  </thead>\n",
       "  <tbody>\n",
       "    <tr>\n",
       "      <th>5</th>\n",
       "      <td>63196</td>\n",
       "      <td>Alaster</td>\n",
       "      <td>Scutchin</td>\n",
       "      <td>Assistant Professor</td>\n",
       "      <td>32179</td>\n",
       "      <td>37270.0</td>\n",
       "      <td>2</td>\n",
       "    </tr>\n",
       "    <tr>\n",
       "      <th>12</th>\n",
       "      <td>76196</td>\n",
       "      <td>Mirilla</td>\n",
       "      <td>Janowski</td>\n",
       "      <td>Cost Accountant</td>\n",
       "      <td>119241</td>\n",
       "      <td>37270.0</td>\n",
       "      <td>3</td>\n",
       "    </tr>\n",
       "  </tbody>\n",
       "</table>\n",
       "</div>"
      ],
      "text/plain": [
       "    employee_id first_name last_name            job_title  salary  reports_to  \\\n",
       "5         63196    Alaster  Scutchin  Assistant Professor   32179     37270.0   \n",
       "12        76196    Mirilla  Janowski      Cost Accountant  119241     37270.0   \n",
       "\n",
       "    office_id  \n",
       "5           2  \n",
       "12          3  "
      ]
     },
     "execution_count": 81,
     "metadata": {},
     "output_type": "execute_result"
    }
   ],
   "source": [
    "# job title\n",
    "df.loc[(df['job_title']=='Cost Accountant') | (df['job_title'] == 'Assistant Professor')]"
   ]
  },
  {
   "cell_type": "code",
   "execution_count": null,
   "id": "31a2a803",
   "metadata": {},
   "outputs": [],
   "source": []
  }
 ],
 "metadata": {
  "kernelspec": {
   "display_name": "Python 3 (ipykernel)",
   "language": "python",
   "name": "python3"
  },
  "language_info": {
   "codemirror_mode": {
    "name": "ipython",
    "version": 3
   },
   "file_extension": ".py",
   "mimetype": "text/x-python",
   "name": "python",
   "nbconvert_exporter": "python",
   "pygments_lexer": "ipython3",
   "version": "3.10.9"
  }
 },
 "nbformat": 4,
 "nbformat_minor": 5
}
