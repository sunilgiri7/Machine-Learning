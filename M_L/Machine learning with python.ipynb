{
 "cells": [
  {
   "cell_type": "code",
   "execution_count": null,
   "id": "d8497a39",
   "metadata": {},
   "outputs": [],
   "source": [
    "import numpy as np\n",
    "import pandas as pd\n",
    "import matplotlib.pyplot as plt\n",
    "from IPython.display import clear_output\n",
    "from six.moves import urllib\n",
    "import tensorflow as tf"
   ]
  },
  {
   "cell_type": "code",
   "execution_count": null,
   "id": "617c865c",
   "metadata": {
    "scrolled": true
   },
   "outputs": [],
   "source": [
    "dftrain = pd.read_csv('titanic_data.csv')\n",
    "dfeval = pd.read_csv('titanic_data.csv')\n",
    "dftrain.drop('body', inplace=True, axis=1)\n",
    "dftrain.head()\n",
    "x = dftrain.pop('survived')"
   ]
  },
  {
   "cell_type": "code",
   "execution_count": null,
   "id": "d91923ac",
   "metadata": {},
   "outputs": [],
   "source": [
    "y = dfeval.pop('survived')\n",
    "print(dftrain.loc[0],y.loc[0])"
   ]
  },
  {
   "cell_type": "code",
   "execution_count": null,
   "id": "862a6b5d",
   "metadata": {},
   "outputs": [],
   "source": [
    "CATEGORICAL_COLUMNS = ['sex','sibsp','parch','ticket','boat',\n",
    "                      'cabin','embarked']\n",
    "NUMERIC_COLUMNS = ['age','fare']\n",
    "feature_columns = []\n",
    "for feature_name in CATEGORICAL_COLUMNS:\n",
    "    vocabulary = dftrain[feature_name].unique()\n",
    "    feature_columns.append(tf.feature_column.categorical_column_with_vocabulary_list(feature_name,vocabulary))\n",
    "\n",
    "for feature_name in NUMERIC_COLUMNS:\n",
    "    feature_columns.append(tf.feature_column.numeric_column(feature_name,dtype=tf.float32))\n",
    "print(feature_columns)"
   ]
  },
  {
   "cell_type": "code",
   "execution_count": null,
   "id": "1db57a91",
   "metadata": {},
   "outputs": [],
   "source": [
    "def make_input_fn(data_df, num_epochs=10,shuffle=True,batch_size=32):\n",
    "    def input_function():\n",
    "        ds=tf.data.Dataset.from_tensor_slices((dict(data_df),label_df))\n",
    "            if shuffle:\n",
    "            ds=ds.shuffle(1000)\n",
    "            ds=ds.batch(batch_size).repeat(num_epochs)\n",
    "            return ds\n",
    "            return input_function\n",
    "train_input_fn=make_input_fn(dftrain,y)\n",
    "eval_input_fn=make_input_fn(dfeval,y_eval,num_epochs=1,shuffle=False)\n",
    "\n",
    "linear_est = tf.estimator.linearClassifier(feature_columns=feature_columns)\n",
    "\n",
    "linear_est.train(train_input_fn)\n",
    "result = linear_est.evaluate(eval_input_fn)\n",
    "clear_output()\n",
    "print(result['accuracy'])"
   ]
  },
  {
   "cell_type": "code",
   "execution_count": null,
   "id": "f5e9e3a0",
   "metadata": {},
   "outputs": [],
   "source": []
  }
 ],
 "metadata": {
  "kernelspec": {
   "display_name": "Python 3 (ipykernel)",
   "language": "python",
   "name": "python3"
  },
  "language_info": {
   "codemirror_mode": {
    "name": "ipython",
    "version": 3
   },
   "file_extension": ".py",
   "mimetype": "text/x-python",
   "name": "python",
   "nbconvert_exporter": "python",
   "pygments_lexer": "ipython3",
   "version": "3.10.5"
  }
 },
 "nbformat": 4,
 "nbformat_minor": 5
}
