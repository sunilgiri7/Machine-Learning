{
 "cells": [
  {
   "cell_type": "code",
   "execution_count": null,
   "id": "89ae60bc",
   "metadata": {},
   "outputs": [],
   "source": [
    "from scipy import cluster"
   ]
  },
  {
   "cell_type": "code",
   "execution_count": null,
   "id": "8f276965",
   "metadata": {},
   "outputs": [],
   "source": [
    "help(cluster)"
   ]
  },
  {
   "cell_type": "code",
   "execution_count": null,
   "id": "2046f6cc",
   "metadata": {},
   "outputs": [],
   "source": [
    "help()"
   ]
  },
  {
   "cell_type": "code",
   "execution_count": null,
   "id": "952491b9",
   "metadata": {},
   "outputs": [],
   "source": [
    "import scipy\n",
    "scipy.info(cluster)"
   ]
  },
  {
   "cell_type": "code",
   "execution_count": null,
   "id": "f34f9d63",
   "metadata": {},
   "outputs": [],
   "source": [
    "scipy.source(cluster)"
   ]
  },
  {
   "cell_type": "markdown",
   "id": "a34b5dc6",
   "metadata": {},
   "source": [
    "# Special function"
   ]
  },
  {
   "cell_type": "code",
   "execution_count": null,
   "id": "d8be77aa",
   "metadata": {},
   "outputs": [],
   "source": [
    "from scipy import special"
   ]
  },
  {
   "cell_type": "code",
   "execution_count": null,
   "id": "79fd48f3",
   "metadata": {},
   "outputs": [],
   "source": [
    "#For Exp calc we need to square of that given nummber\n",
    "a= special.exp10(2)\n",
    "print(a)"
   ]
  },
  {
   "cell_type": "code",
   "execution_count": null,
   "id": "c005e4db",
   "metadata": {},
   "outputs": [],
   "source": [
    "b = special.cosdg(90)\n",
    "print(b)"
   ]
  },
  {
   "cell_type": "code",
   "execution_count": null,
   "id": "1ff0f871",
   "metadata": {},
   "outputs": [],
   "source": [
    "b = special.exp2(3)\n",
    "print(b)"
   ]
  },
  {
   "cell_type": "markdown",
   "id": "372482d3",
   "metadata": {},
   "source": [
    "# Integrate"
   ]
  },
  {
   "cell_type": "code",
   "execution_count": null,
   "id": "bbdc88e5",
   "metadata": {},
   "outputs": [],
   "source": [
    "from scipy import integrate"
   ]
  },
  {
   "cell_type": "code",
   "execution_count": null,
   "id": "a00a2643",
   "metadata": {},
   "outputs": [],
   "source": [
    "help(integrate.quad)"
   ]
  },
  {
   "cell_type": "code",
   "execution_count": null,
   "id": "46345766",
   "metadata": {},
   "outputs": [],
   "source": [
    "i = integrate.quad(lambda x: special.exp10(x),0,1)\n",
    "print(i)"
   ]
  },
  {
   "cell_type": "code",
   "execution_count": null,
   "id": "73a45529",
   "metadata": {},
   "outputs": [],
   "source": [
    "e = lambda x,y:x*y**2\n",
    "f = lambda x:1\n",
    "g = lambda x:-1\n",
    "integrate.dblquad(e,0,2,f,g)"
   ]
  },
  {
   "cell_type": "code",
   "execution_count": null,
   "id": "51b6c327",
   "metadata": {},
   "outputs": [],
   "source": [
    "from scipy.fftpack import fft,ifft\n",
    "import numpy as np"
   ]
  },
  {
   "cell_type": "code",
   "execution_count": null,
   "id": "dff0cf3c",
   "metadata": {},
   "outputs": [],
   "source": [
    "a = np.array([1,2,3,4])\n",
    "b = ifft(a)\n",
    "print(b)"
   ]
  },
  {
   "cell_type": "markdown",
   "id": "01c48707",
   "metadata": {},
   "source": [
    "# Linear Algebra"
   ]
  },
  {
   "cell_type": "code",
   "execution_count": null,
   "id": "40d2f893",
   "metadata": {},
   "outputs": [],
   "source": [
    "from scipy import linalg\n",
    "a = np.array([[1,2],[2,3]])\n",
    "b = linalg.inv(a)\n",
    "print(b)"
   ]
  },
  {
   "cell_type": "markdown",
   "id": "a8053b2c",
   "metadata": {},
   "source": [
    "# Interpolation Function"
   ]
  },
  {
   "cell_type": "code",
   "execution_count": null,
   "id": "3f744ad6",
   "metadata": {},
   "outputs": [],
   "source": [
    "import matplotlib.pyplot as plt\n",
    "from scipy import interpolate"
   ]
  },
  {
   "cell_type": "code",
   "execution_count": null,
   "id": "5bef6150",
   "metadata": {},
   "outputs": [],
   "source": [
    "x = np.arange(5,20)\n",
    "y = np.exp(x/3.0)\n",
    "f = interpolate.interp1d(x,y)\n",
    "x1 = np.arange(6,12)\n",
    "y1 = f(x1)\n",
    "plt.plot(x,y,'o',x1,y1,'--')\n",
    "plt.show()"
   ]
  },
  {
   "cell_type": "code",
   "execution_count": null,
   "id": "da55e5f0",
   "metadata": {},
   "outputs": [],
   "source": [
    "import matplotlib.pyplot as plt\n",
    "from scipy import interpolate"
   ]
  },
  {
   "cell_type": "code",
   "execution_count": null,
   "id": "a95ece60",
   "metadata": {},
   "outputs": [],
   "source": [
    "x = np.linspace(0,10,10)\n",
    "y = x**2 * np.sin(x)\n",
    "plt.plot(x,y)"
   ]
  },
  {
   "cell_type": "code",
   "execution_count": null,
   "id": "4809e114",
   "metadata": {},
   "outputs": [],
   "source": [
    "x = np.linspace(0,10,10)\n",
    "y = x**2 * np.sin(x)\n",
    "y"
   ]
  },
  {
   "cell_type": "markdown",
   "id": "ba7ca025",
   "metadata": {},
   "source": [
    "# Optimization"
   ]
  },
  {
   "cell_type": "code",
   "execution_count": null,
   "id": "129e61b1",
   "metadata": {},
   "outputs": [],
   "source": [
    "import numpy as np \n",
    "import matplotlib.pyplot as plt\n",
    "import scipy as sp\n",
    "from scipy.optimize import minimize "
   ]
  },
  {
   "cell_type": "markdown",
   "id": "047285d1",
   "metadata": {},
   "source": [
    "minimize f(x) = (x-3)square"
   ]
  },
  {
   "cell_type": "code",
   "execution_count": null,
   "id": "43e27771",
   "metadata": {},
   "outputs": [],
   "source": [
    "import numpy as np \n",
    "import matplotlib.pyplot as plt\n",
    "import scipy as sp\n",
    "from scipy.optimize import minimize \n",
    "def f(x):\n",
    "    return (x-3)**2\n",
    "res = minimize(f,2)\n",
    "print(res)"
   ]
  },
  {
   "cell_type": "code",
   "execution_count": null,
   "id": "bee196a2",
   "metadata": {},
   "outputs": [],
   "source": [
    "res.x[0]"
   ]
  },
  {
   "cell_type": "code",
   "execution_count": null,
   "id": "8e45af58",
   "metadata": {
    "scrolled": true
   },
   "outputs": [],
   "source": [
    "f = lambda x:(x[0]-1)**2 + (x[1]-2.5)**2\n",
    "cons = ({'type':'ineq','fun': lambda x:x[0]-2*x[1]+2},\n",
    "        {'type':'ineq','fun': lambda x:-x[0]-2*x[1]+6},\n",
    "        {'type':'ineq','fun': lambda x:x[0]+2*x[1]+2})\n",
    "bnds = ((0, None),(0, None))\n",
    "res = minimize(f,(2,1),bounds = bnds, constraints = cons)"
   ]
  },
  {
   "cell_type": "code",
   "execution_count": null,
   "id": "d121fe58",
   "metadata": {},
   "outputs": [],
   "source": [
    "res"
   ]
  },
  {
   "cell_type": "code",
   "execution_count": null,
   "id": "7f820845",
   "metadata": {},
   "outputs": [],
   "source": [
    "res.x"
   ]
  },
  {
   "cell_type": "code",
   "execution_count": null,
   "id": "2762959b",
   "metadata": {},
   "outputs": [],
   "source": [
    "#minimize?"
   ]
  },
  {
   "cell_type": "markdown",
   "id": "3ce9e921",
   "metadata": {},
   "source": [
    "# Calcalus"
   ]
  },
  {
   "cell_type": "code",
   "execution_count": null,
   "id": "e59f03e6",
   "metadata": {},
   "outputs": [],
   "source": [
    "from scipy.misc import derivative\n",
    "def f(x):\n",
    "    return x**2*np.sin(2*x)*np.exp(-x)\n",
    "x = np.linspace(0,1,100)"
   ]
  },
  {
   "cell_type": "code",
   "execution_count": null,
   "id": "f631eb69",
   "metadata": {},
   "outputs": [],
   "source": [
    "plt.plot(x,f(x))"
   ]
  },
  {
   "cell_type": "code",
   "execution_count": null,
   "id": "76d19ae5",
   "metadata": {},
   "outputs": [],
   "source": []
  }
 ],
 "metadata": {
  "kernelspec": {
   "display_name": "Python 3 (ipykernel)",
   "language": "python",
   "name": "python3"
  },
  "language_info": {
   "codemirror_mode": {
    "name": "ipython",
    "version": 3
   },
   "file_extension": ".py",
   "mimetype": "text/x-python",
   "name": "python",
   "nbconvert_exporter": "python",
   "pygments_lexer": "ipython3",
   "version": "3.10.5"
  }
 },
 "nbformat": 4,
 "nbformat_minor": 5
}
