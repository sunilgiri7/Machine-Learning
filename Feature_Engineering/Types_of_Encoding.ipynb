{
 "cells": [
  {
   "cell_type": "markdown",
   "id": "ad6a4b95",
   "metadata": {},
   "source": [
    "# Types of encoding\n",
    "###### 1.Nominal Encoding (e.g Gender\n",
    "###### 2.Ordinal Encoding(e.g Rank"
   ]
  },
  {
   "cell_type": "markdown",
   "id": "90a3a23f",
   "metadata": {},
   "source": [
    "### Nominal Encoding\n",
    "1.one hot encoding                      \n",
    "2.one hot encoding with many categorical         \n",
    "3.mean encoding"
   ]
  },
  {
   "cell_type": "markdown",
   "id": "f10fb496",
   "metadata": {},
   "source": [
    "### Ordinal Encoding\n",
    "1.label encoding                  \n",
    "2.target guided ordinal encoding"
   ]
  },
  {
   "cell_type": "markdown",
   "id": "97e1798a",
   "metadata": {},
   "source": [
    "### One Hot Encoding\n",
    "In this technique, the categorical parameters will prepare separate columns for both Male and Female labels. \n",
    "So, wherever there is Male, the value will be 1 in Male column and 0 in Female column, and vice-versa. \n",
    "\n",
    "-Checking for the labels in the categorical parameters \n",
    "\n",
    "print(data['Gender'].unique())                                                                         \n",
    "print(data['Remarks'].unique())  \n",
    "\n",
    "\n",
    "-One-Hot encoding the categorical parameters using get_dummies() \n",
    "\n",
    "one_hot_encoded_data = pd.get_dummies(data, columns = ['Remarks', 'Gender'])                         \n",
    "print(one_hot_encoded_data)                                                             "
   ]
  },
  {
   "cell_type": "markdown",
   "id": "fffedb8c",
   "metadata": {},
   "source": [
    "### Label Encoding\n",
    "refers to converting the labels into a numeric form so as to convert them into the machine-readable form. \n",
    "Machine learning algorithms can then decide in a better way how those labels must be operated. \n",
    "It is an important pre-processing step for the structured dataset in supervised learning.\n",
    "\n",
    "Example\n",
    "An attribute having output classes Mexico, Paris, Dubai. On Label Encoding,                       \n",
    "this column lets Mexico is replaced with 0, Paris is replaced with 1, and Dubai is replaced with 2. \n",
    "With this, it can be interpreted that Dubai has high priority than Mexico and Paris             \n",
    "while training the model."
   ]
  },
  {
   "cell_type": "markdown",
   "id": "441806c4",
   "metadata": {},
   "source": [
    "### one hot encoding with multiple categorical\n",
    "The technique is that we will limit one-hot encoding to the 10 most frequent labels of the variable. \n",
    "This means that we would make one binary variable for each of the 10 most frequent labels only, \n",
    "this is equivalent to grouping all other labels under a new category, which in this case will be dropped. \n",
    "Thus, the 10 new dummy variables indicate if one of the 10 most frequent labels is present is 1 or not then 0 for a particular observation."
   ]
  },
  {
   "cell_type": "markdown",
   "id": "1ce39329",
   "metadata": {},
   "source": [
    "### Target Guided Ordinal Categories\n",
    "Highest mean Highest Rank.\n",
    "In this method, we calculate the mean of each categorical variable based on the output and then rank them\n",
    "We can apply this technique but cant do this with nominal as we dont know the order in case of nominal variables unlike in the case of Ordinal where we know the order of variables.\n",
    "\n",
    "To overcome this limitation for Nominal variables we use another technique called Mean Encoding"
   ]
  },
  {
   "cell_type": "markdown",
   "id": "b03055c0",
   "metadata": {},
   "source": [
    "### Mean Encoding\n",
    "In this method, we will convert the categories into their mean values based on the output.\n",
    "\n",
    "This type of approach will be applicable where we have a lot of categorical variables for a particular column.\n",
    "\n",
    "Example, suppose we have a column as pincode which contains all the pincodes of a city. It will contain many pincodes with multiple occurances. To encode we can use this technique which will convert all the pincodes into their mean values based on the output column."
   ]
  }
 ],
 "metadata": {
  "kernelspec": {
   "display_name": "Python 3 (ipykernel)",
   "language": "python",
   "name": "python3"
  },
  "language_info": {
   "codemirror_mode": {
    "name": "ipython",
    "version": 3
   },
   "file_extension": ".py",
   "mimetype": "text/x-python",
   "name": "python",
   "nbconvert_exporter": "python",
   "pygments_lexer": "ipython3",
   "version": "3.10.5"
  }
 },
 "nbformat": 4,
 "nbformat_minor": 5
}
