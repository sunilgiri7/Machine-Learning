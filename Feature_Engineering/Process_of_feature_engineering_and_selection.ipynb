{
 "cells": [
  {
   "cell_type": "markdown",
   "id": "08e67530",
   "metadata": {},
   "source": [
    "## Feature Engineering"
   ]
  },
  {
   "cell_type": "markdown",
   "id": "40b460ce",
   "metadata": {},
   "source": [
    "Step-1: EDA Exploratory Data Analysis\n",
    "\n",
    "-We have to convert Raw data into Useful Data So That out ML algo ingest them properly\n",
    "\n",
    "After get raw Data                                               \n",
    "i. How many Numerical Features may be there                         \n",
    "ii. How many Categorical Features may be there                      \n",
    "iii. Is there is any Missing values                              \n",
    "iv. Is there is any outliers {With help of Box Plot                   \n",
    "v. Raw data is cleaning or not                                    "
   ]
  },
  {
   "cell_type": "markdown",
   "id": "882210ea",
   "metadata": {},
   "source": [
    "Step-2: Handling the missing values                        \n",
    "i. mean                                               \n",
    "ii. median                                                    \n",
    "iii. mode                                                       "
   ]
  },
  {
   "cell_type": "markdown",
   "id": "4d6b75dd",
   "metadata": {},
   "source": [
    "Step-3: Handling Imbalanced Dataset                             \n",
    "Step-4: Treating the outliers                                     \n",
    "Step-5: Scaling down the Data {standarization and Normalization    \n",
    "Step-6: Converting the categorical features into numerical Features"
   ]
  },
  {
   "cell_type": "markdown",
   "id": "5b616c54",
   "metadata": {},
   "source": [
    "## Feature Selection"
   ]
  },
  {
   "cell_type": "markdown",
   "id": "a1fc4117",
   "metadata": {},
   "source": [
    "1. Correlation                                                   \n",
    "2. K Neighbour                                                   \n",
    "3. Chi square                                                   \n",
    "4. Genetic Algo                                                   \n",
    "5. Feature Importance {Extra Tree classif}                         "
   ]
  }
 ],
 "metadata": {
  "kernelspec": {
   "display_name": "Python 3 (ipykernel)",
   "language": "python",
   "name": "python3"
  },
  "language_info": {
   "codemirror_mode": {
    "name": "ipython",
    "version": 3
   },
   "file_extension": ".py",
   "mimetype": "text/x-python",
   "name": "python",
   "nbconvert_exporter": "python",
   "pygments_lexer": "ipython3",
   "version": "3.10.5"
  }
 },
 "nbformat": 4,
 "nbformat_minor": 5
}
