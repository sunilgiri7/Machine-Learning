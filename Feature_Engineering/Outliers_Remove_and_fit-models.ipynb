{
 "cells": [
  {
   "cell_type": "markdown",
   "id": "8c924b7b",
   "metadata": {},
   "source": [
    "## Discussion Releted With Outliers And Impact On Machine Learning"
   ]
  },
  {
   "cell_type": "markdown",
   "id": "44d5e1ad",
   "metadata": {},
   "source": [
    "##### Which ML models are sensitive to outliers?\n",
    "1. Naivye Bayes Classifier--- Not Sensitive to Outliers \n",
    "2. SVM--- Not Sensitive to Outliers(sensitive means impact)\n",
    "3. Linear Regression--- Sensitive to outliers\n",
    "4. Logistic Regression--- Sensitive to outliers\n",
    "5. Decision Tree Classification or Regression--- Not Sensitive\n",
    "6. Ensamble(RF,XGboost,GB)--- Not Sensitive\n",
    "7. kNN--- Not Sensitive\n",
    "8. Kmeans--- Sensitive\n",
    "9. Hierarichal--- Sensitive\n",
    "10. PCA--- Sensitive\n",
    "11. Neural Network--- Sensitive"
   ]
  },
  {
   "cell_type": "code",
   "execution_count": 3,
   "id": "24ea5def",
   "metadata": {},
   "outputs": [
    {
     "data": {
      "text/html": [
       "<div>\n",
       "<style scoped>\n",
       "    .dataframe tbody tr th:only-of-type {\n",
       "        vertical-align: middle;\n",
       "    }\n",
       "\n",
       "    .dataframe tbody tr th {\n",
       "        vertical-align: top;\n",
       "    }\n",
       "\n",
       "    .dataframe thead th {\n",
       "        text-align: right;\n",
       "    }\n",
       "</style>\n",
       "<table border=\"1\" class=\"dataframe\">\n",
       "  <thead>\n",
       "    <tr style=\"text-align: right;\">\n",
       "      <th></th>\n",
       "      <th>pclass</th>\n",
       "      <th>survived</th>\n",
       "      <th>name</th>\n",
       "      <th>sex</th>\n",
       "      <th>age</th>\n",
       "      <th>sibsp</th>\n",
       "      <th>parch</th>\n",
       "      <th>ticket</th>\n",
       "      <th>fare</th>\n",
       "      <th>cabin</th>\n",
       "      <th>embarked</th>\n",
       "      <th>boat</th>\n",
       "      <th>body</th>\n",
       "      <th>home.dest</th>\n",
       "    </tr>\n",
       "  </thead>\n",
       "  <tbody>\n",
       "    <tr>\n",
       "      <th>0</th>\n",
       "      <td>1</td>\n",
       "      <td>1</td>\n",
       "      <td>Allen, Miss. Elisabeth Walton</td>\n",
       "      <td>female</td>\n",
       "      <td>29.0000</td>\n",
       "      <td>0</td>\n",
       "      <td>0</td>\n",
       "      <td>24160</td>\n",
       "      <td>211.3375</td>\n",
       "      <td>B5</td>\n",
       "      <td>S</td>\n",
       "      <td>2</td>\n",
       "      <td>NaN</td>\n",
       "      <td>St Louis, MO</td>\n",
       "    </tr>\n",
       "    <tr>\n",
       "      <th>1</th>\n",
       "      <td>1</td>\n",
       "      <td>1</td>\n",
       "      <td>Allison, Master. Hudson Trevor</td>\n",
       "      <td>male</td>\n",
       "      <td>0.9167</td>\n",
       "      <td>1</td>\n",
       "      <td>2</td>\n",
       "      <td>113781</td>\n",
       "      <td>151.5500</td>\n",
       "      <td>C22 C26</td>\n",
       "      <td>S</td>\n",
       "      <td>11</td>\n",
       "      <td>NaN</td>\n",
       "      <td>Montreal, PQ / Chesterville, ON</td>\n",
       "    </tr>\n",
       "    <tr>\n",
       "      <th>2</th>\n",
       "      <td>1</td>\n",
       "      <td>0</td>\n",
       "      <td>Allison, Miss. Helen Loraine</td>\n",
       "      <td>female</td>\n",
       "      <td>2.0000</td>\n",
       "      <td>1</td>\n",
       "      <td>2</td>\n",
       "      <td>113781</td>\n",
       "      <td>151.5500</td>\n",
       "      <td>C22 C26</td>\n",
       "      <td>S</td>\n",
       "      <td>NaN</td>\n",
       "      <td>NaN</td>\n",
       "      <td>Montreal, PQ / Chesterville, ON</td>\n",
       "    </tr>\n",
       "    <tr>\n",
       "      <th>3</th>\n",
       "      <td>1</td>\n",
       "      <td>0</td>\n",
       "      <td>Allison, Mr. Hudson Joshua Creighton</td>\n",
       "      <td>male</td>\n",
       "      <td>30.0000</td>\n",
       "      <td>1</td>\n",
       "      <td>2</td>\n",
       "      <td>113781</td>\n",
       "      <td>151.5500</td>\n",
       "      <td>C22 C26</td>\n",
       "      <td>S</td>\n",
       "      <td>NaN</td>\n",
       "      <td>135.0</td>\n",
       "      <td>Montreal, PQ / Chesterville, ON</td>\n",
       "    </tr>\n",
       "    <tr>\n",
       "      <th>4</th>\n",
       "      <td>1</td>\n",
       "      <td>0</td>\n",
       "      <td>Allison, Mrs. Hudson J C (Bessie Waldo Daniels)</td>\n",
       "      <td>female</td>\n",
       "      <td>25.0000</td>\n",
       "      <td>1</td>\n",
       "      <td>2</td>\n",
       "      <td>113781</td>\n",
       "      <td>151.5500</td>\n",
       "      <td>C22 C26</td>\n",
       "      <td>S</td>\n",
       "      <td>NaN</td>\n",
       "      <td>NaN</td>\n",
       "      <td>Montreal, PQ / Chesterville, ON</td>\n",
       "    </tr>\n",
       "  </tbody>\n",
       "</table>\n",
       "</div>"
      ],
      "text/plain": [
       "   pclass  survived                                             name     sex  \\\n",
       "0       1         1                    Allen, Miss. Elisabeth Walton  female   \n",
       "1       1         1                   Allison, Master. Hudson Trevor    male   \n",
       "2       1         0                     Allison, Miss. Helen Loraine  female   \n",
       "3       1         0             Allison, Mr. Hudson Joshua Creighton    male   \n",
       "4       1         0  Allison, Mrs. Hudson J C (Bessie Waldo Daniels)  female   \n",
       "\n",
       "       age  sibsp  parch  ticket      fare    cabin embarked boat   body  \\\n",
       "0  29.0000      0      0   24160  211.3375       B5        S    2    NaN   \n",
       "1   0.9167      1      2  113781  151.5500  C22 C26        S   11    NaN   \n",
       "2   2.0000      1      2  113781  151.5500  C22 C26        S  NaN    NaN   \n",
       "3  30.0000      1      2  113781  151.5500  C22 C26        S  NaN  135.0   \n",
       "4  25.0000      1      2  113781  151.5500  C22 C26        S  NaN    NaN   \n",
       "\n",
       "                         home.dest  \n",
       "0                     St Louis, MO  \n",
       "1  Montreal, PQ / Chesterville, ON  \n",
       "2  Montreal, PQ / Chesterville, ON  \n",
       "3  Montreal, PQ / Chesterville, ON  \n",
       "4  Montreal, PQ / Chesterville, ON  "
      ]
     },
     "execution_count": 3,
     "metadata": {},
     "output_type": "execute_result"
    }
   ],
   "source": [
    "import pandas as pd\n",
    "df = pd.read_csv('titanic_data.csv')\n",
    "df.head()"
   ]
  },
  {
   "cell_type": "code",
   "execution_count": 4,
   "id": "54d4a149",
   "metadata": {},
   "outputs": [
    {
     "data": {
      "text/plain": [
       "263"
      ]
     },
     "execution_count": 4,
     "metadata": {},
     "output_type": "execute_result"
    }
   ],
   "source": [
    "df['age'].isnull().sum()"
   ]
  },
  {
   "cell_type": "code",
   "execution_count": 8,
   "id": "c67cc0ad",
   "metadata": {},
   "outputs": [
    {
     "name": "stderr",
     "output_type": "stream",
     "text": [
      "C:\\python37\\lib\\site-packages\\seaborn\\distributions.py:2619: FutureWarning: `distplot` is a deprecated function and will be removed in a future version. Please adapt your code to use either `displot` (a figure-level function with similar flexibility) or `histplot` (an axes-level function for histograms).\n",
      "  warnings.warn(msg, FutureWarning)\n"
     ]
    },
    {
     "data": {
      "text/plain": [
       "<AxesSubplot:xlabel='age', ylabel='Density'>"
      ]
     },
     "execution_count": 8,
     "metadata": {},
     "output_type": "execute_result"
    },
    {
     "data": {
      "image/png": "[encoded data removed]",
      "text/plain": [
       "<Figure size 432x288 with 1 Axes>"
      ]
     },
     "metadata": {
      "needs_background": "light"
     },
     "output_type": "display_data"
    }
   ],
   "source": [
    "import seaborn as sns\n",
    "sns.distplot(df['age'].dropna())"
   ]
  },
  {
   "cell_type": "code",
   "execution_count": 6,
   "id": "c57ca32b",
   "metadata": {},
   "outputs": [
    {
     "name": "stderr",
     "output_type": "stream",
     "text": [
      "C:\\python37\\lib\\site-packages\\seaborn\\distributions.py:2619: FutureWarning: `distplot` is a deprecated function and will be removed in a future version. Please adapt your code to use either `displot` (a figure-level function with similar flexibility) or `histplot` (an axes-level function for histograms).\n",
      "  warnings.warn(msg, FutureWarning)\n"
     ]
    },
    {
     "data": {
      "text/plain": [
       "<AxesSubplot:xlabel='age', ylabel='Density'>"
      ]
     },
     "execution_count": 6,
     "metadata": {},
     "output_type": "execute_result"
    },
    {
     "data": {
      "image/png": "[encoded data removed]",
      "text/plain": [
       "<Figure size 432x288 with 1 Axes>"
      ]
     },
     "metadata": {
      "needs_background": "light"
     },
     "output_type": "display_data"
    }
   ],
   "source": [
    "sns.distplot(df['age'].fillna(100))"
   ]
  },
  {
   "cell_type": "markdown",
   "id": "92f2adbb",
   "metadata": {},
   "source": [
    "#### Gaussian Distribution"
   ]
  },
  {
   "cell_type": "code",
   "execution_count": 9,
   "id": "a5e359f0",
   "metadata": {},
   "outputs": [
    {
     "data": {
      "text/plain": [
       "Text(0, 0.5, 'No of passanger')"
      ]
     },
     "execution_count": 9,
     "metadata": {},
     "output_type": "execute_result"
    },
    {
     "data": {
      "image/png": "[encoded data removed]",
      "text/plain": [
       "<Figure size 432x288 with 1 Axes>"
      ]
     },
     "metadata": {
      "needs_background": "light"
     },
     "output_type": "display_data"
    }
   ],
   "source": [
    "fig = df.age.hist(bins=50)\n",
    "fig.set_title('age')\n",
    "fig.set_xlabel('age')\n",
    "fig.set_ylabel('No of passanger')"
   ]
  },
  {
   "cell_type": "code",
   "execution_count": 10,
   "id": "72f9ec29",
   "metadata": {},
   "outputs": [
    {
     "data": {
      "image/png": "[encoded data removed]",
      "text/plain": [
       "<Figure size 432x288 with 1 Axes>"
      ]
     },
     "metadata": {
      "needs_background": "light"
     },
     "output_type": "display_data"
    }
   ],
   "source": [
    "fig = df.boxplot(column='age')"
   ]
  },
  {
   "cell_type": "code",
   "execution_count": 11,
   "id": "81f6de8e",
   "metadata": {},
   "outputs": [
    {
     "data": {
      "text/plain": [
       "count    1046.000000\n",
       "mean       29.881135\n",
       "std        14.413500\n",
       "min         0.166700\n",
       "25%        21.000000\n",
       "50%        28.000000\n",
       "75%        39.000000\n",
       "max        80.000000\n",
       "Name: age, dtype: float64"
      ]
     },
     "execution_count": 11,
     "metadata": {},
     "output_type": "execute_result"
    }
   ],
   "source": [
    "df['age'].describe()"
   ]
  },
  {
   "cell_type": "markdown",
   "id": "c30a4a1d",
   "metadata": {},
   "source": [
    "## If our data is normally distributed we use this\n",
    "\n",
    "#### Assuming age follows a Gaussian Distribution we will calculate the boundries which differenciate the outliers"
   ]
  },
  {
   "cell_type": "code",
   "execution_count": 14,
   "id": "1c1ecb64",
   "metadata": {},
   "outputs": [
    {
     "data": {
      "text/plain": [
       "14.413499699923602"
      ]
     },
     "execution_count": 14,
     "metadata": {},
     "output_type": "execute_result"
    }
   ],
   "source": [
    "df['age'].std()"
   ]
  },
  {
   "cell_type": "code",
   "execution_count": 15,
   "id": "ee6078c4",
   "metadata": {},
   "outputs": [
    {
     "data": {
      "text/plain": [
       "29.8811345124283"
      ]
     },
     "execution_count": 15,
     "metadata": {},
     "output_type": "execute_result"
    }
   ],
   "source": [
    "df['age'].mean()"
   ]
  },
  {
   "cell_type": "code",
   "execution_count": 13,
   "id": "e404f273",
   "metadata": {},
   "outputs": [
    {
     "data": {
      "text/plain": [
       "73.1216336121991"
      ]
     },
     "execution_count": 13,
     "metadata": {},
     "output_type": "execute_result"
    }
   ],
   "source": [
    "df['age'].mean() + 3 *df['age'].std()"
   ]
  },
  {
   "cell_type": "code",
   "execution_count": 17,
   "id": "a5e7155e",
   "metadata": {},
   "outputs": [],
   "source": [
    "#### Let's compute the imterquantile range to calculate the boundaries\n",
    "IQR = df.age.quantile(0.75)-df.age.quantile(0.25)"
   ]
  },
  {
   "cell_type": "code",
   "execution_count": 18,
   "id": "0d707426",
   "metadata": {},
   "outputs": [
    {
     "data": {
      "text/plain": [
       "18.0"
      ]
     },
     "execution_count": 18,
     "metadata": {},
     "output_type": "execute_result"
    }
   ],
   "source": [
    "IQR"
   ]
  },
  {
   "cell_type": "code",
   "execution_count": 20,
   "id": "4d23a2c3",
   "metadata": {},
   "outputs": [
    {
     "name": "stdout",
     "output_type": "stream",
     "text": [
      "-33.0\n",
      "93.0\n"
     ]
    },
    {
     "data": {
      "text/plain": [
       "(None, None)"
      ]
     },
     "execution_count": 20,
     "metadata": {},
     "output_type": "execute_result"
    }
   ],
   "source": [
    "### Extreme Outliers\n",
    "lower_bridge = df['age'].quantile(0.25)-(IQR*3)\n",
    "upper_bridge = df['age'].quantile(0.75)+(IQR*3)\n",
    "print(lower_bridge),print(upper_bridge)"
   ]
  },
  {
   "cell_type": "markdown",
   "id": "2b964756",
   "metadata": {},
   "source": [
    "### if Feature is Skewed we use below technique "
   ]
  },
  {
   "cell_type": "code",
   "execution_count": 22,
   "id": "66aad863",
   "metadata": {},
   "outputs": [
    {
     "data": {
      "text/plain": [
       "Text(0, 0.5, 'No of passanger')"
      ]
     },
     "execution_count": 22,
     "metadata": {},
     "output_type": "execute_result"
    },
    {
     "data": {
      "image/png": "[encoded data removed]",
      "text/plain": [
       "<Figure size 432x288 with 1 Axes>"
      ]
     },
     "metadata": {
      "needs_background": "light"
     },
     "output_type": "display_data"
    }
   ],
   "source": [
    "fig = df.age.hist(bins=50)\n",
    "fig.set_title('fare')\n",
    "fig.set_xlabel('fare')\n",
    "fig.set_ylabel('No of passanger')"
   ]
  },
  {
   "cell_type": "code",
   "execution_count": 23,
   "id": "738235eb",
   "metadata": {},
   "outputs": [
    {
     "data": {
      "image/png": "[encoded data removed]",
      "text/plain": [
       "<Figure size 432x288 with 1 Axes>"
      ]
     },
     "metadata": {
      "needs_background": "light"
     },
     "output_type": "display_data"
    }
   ],
   "source": [
    "fig = df.boxplot(column='fare')"
   ]
  },
  {
   "cell_type": "code",
   "execution_count": 24,
   "id": "f27abbc0",
   "metadata": {},
   "outputs": [
    {
     "data": {
      "text/plain": [
       "count    1308.000000\n",
       "mean       33.295479\n",
       "std        51.758668\n",
       "min         0.000000\n",
       "25%         7.895800\n",
       "50%        14.454200\n",
       "75%        31.275000\n",
       "max       512.329200\n",
       "Name: fare, dtype: float64"
      ]
     },
     "execution_count": 24,
     "metadata": {},
     "output_type": "execute_result"
    }
   ],
   "source": [
    "df['fare'].describe()"
   ]
  },
  {
   "cell_type": "code",
   "execution_count": 29,
   "id": "4ca63ceb",
   "metadata": {},
   "outputs": [
    {
     "data": {
      "text/plain": [
       "23.379199999999997"
      ]
     },
     "execution_count": 29,
     "metadata": {},
     "output_type": "execute_result"
    }
   ],
   "source": [
    "IQR = df.fare.quantile(0.75)-df.fare.quantile(0.25)\n",
    "IQR"
   ]
  },
  {
   "cell_type": "code",
   "execution_count": 32,
   "id": "7b1f5b8e",
   "metadata": {},
   "outputs": [
    {
     "name": "stdout",
     "output_type": "stream",
     "text": [
      "-14.068799999999996\n",
      "74.0688\n"
     ]
    },
    {
     "data": {
      "text/plain": [
       "(None, None)"
      ]
     },
     "execution_count": 32,
     "metadata": {},
     "output_type": "execute_result"
    }
   ],
   "source": [
    "lower_bridge = df['age'].quantile(0.25)-(IQR*1.5)\n",
    "upper_bridge = df['age'].quantile(0.75)+(IQR*1.5)\n",
    "print(lower_bridge),print(upper_bridge)"
   ]
  },
  {
   "cell_type": "code",
   "execution_count": 33,
   "id": "ecfdce57",
   "metadata": {},
   "outputs": [
    {
     "name": "stdout",
     "output_type": "stream",
     "text": [
      "-62.24179999999999\n",
      "101.4126\n"
     ]
    },
    {
     "data": {
      "text/plain": [
       "(None, None)"
      ]
     },
     "execution_count": 33,
     "metadata": {},
     "output_type": "execute_result"
    }
   ],
   "source": [
    "lower_bridge = df['fare'].quantile(0.25)-(IQR*3)\n",
    "upper_bridge = df['fare'].quantile(0.75)+(IQR*3)\n",
    "print(lower_bridge),print(upper_bridge)"
   ]
  },
  {
   "cell_type": "code",
   "execution_count": 35,
   "id": "6316a08f",
   "metadata": {},
   "outputs": [],
   "source": [
    "data = df.copy()"
   ]
  },
  {
   "cell_type": "code",
   "execution_count": 41,
   "id": "fe3c13f5",
   "metadata": {},
   "outputs": [],
   "source": [
    "data.loc[data['age']>93,'age']=93"
   ]
  },
  {
   "cell_type": "code",
   "execution_count": 44,
   "id": "4077d56f",
   "metadata": {},
   "outputs": [],
   "source": [
    "data.loc[data['fare']>101,'fare'] = 101"
   ]
  },
  {
   "cell_type": "code",
   "execution_count": 48,
   "id": "0aecea08",
   "metadata": {},
   "outputs": [
    {
     "data": {
      "image/png": "[encoded data removed]",
      "text/plain": [
       "<Figure size 432x288 with 1 Axes>"
      ]
     },
     "metadata": {
      "needs_background": "light"
     },
     "output_type": "display_data"
    }
   ],
   "source": [
    "fig = data.boxplot(column='age')"
   ]
  },
  {
   "cell_type": "code",
   "execution_count": 45,
   "id": "9fed470a",
   "metadata": {},
   "outputs": [
    {
     "data": {
      "text/html": [
       "<div>\n",
       "<style scoped>\n",
       "    .dataframe tbody tr th:only-of-type {\n",
       "        vertical-align: middle;\n",
       "    }\n",
       "\n",
       "    .dataframe tbody tr th {\n",
       "        vertical-align: top;\n",
       "    }\n",
       "\n",
       "    .dataframe thead th {\n",
       "        text-align: right;\n",
       "    }\n",
       "</style>\n",
       "<table border=\"1\" class=\"dataframe\">\n",
       "  <thead>\n",
       "    <tr style=\"text-align: right;\">\n",
       "      <th></th>\n",
       "      <th>pclass</th>\n",
       "      <th>survived</th>\n",
       "      <th>name</th>\n",
       "      <th>sex</th>\n",
       "      <th>age</th>\n",
       "      <th>sibsp</th>\n",
       "      <th>parch</th>\n",
       "      <th>ticket</th>\n",
       "      <th>fare</th>\n",
       "      <th>cabin</th>\n",
       "      <th>embarked</th>\n",
       "      <th>boat</th>\n",
       "      <th>body</th>\n",
       "      <th>home.dest</th>\n",
       "    </tr>\n",
       "  </thead>\n",
       "  <tbody>\n",
       "    <tr>\n",
       "      <th>0</th>\n",
       "      <td>100</td>\n",
       "      <td>100</td>\n",
       "      <td>100</td>\n",
       "      <td>100</td>\n",
       "      <td>93.0</td>\n",
       "      <td>100</td>\n",
       "      <td>100</td>\n",
       "      <td>100</td>\n",
       "      <td>100.0</td>\n",
       "      <td>100</td>\n",
       "      <td>100</td>\n",
       "      <td>100</td>\n",
       "      <td>100.0</td>\n",
       "      <td>100</td>\n",
       "    </tr>\n",
       "    <tr>\n",
       "      <th>1</th>\n",
       "      <td>100</td>\n",
       "      <td>100</td>\n",
       "      <td>100</td>\n",
       "      <td>100</td>\n",
       "      <td>93.0</td>\n",
       "      <td>100</td>\n",
       "      <td>100</td>\n",
       "      <td>100</td>\n",
       "      <td>100.0</td>\n",
       "      <td>100</td>\n",
       "      <td>100</td>\n",
       "      <td>100</td>\n",
       "      <td>100.0</td>\n",
       "      <td>100</td>\n",
       "    </tr>\n",
       "    <tr>\n",
       "      <th>2</th>\n",
       "      <td>100</td>\n",
       "      <td>100</td>\n",
       "      <td>100</td>\n",
       "      <td>100</td>\n",
       "      <td>93.0</td>\n",
       "      <td>100</td>\n",
       "      <td>100</td>\n",
       "      <td>100</td>\n",
       "      <td>100.0</td>\n",
       "      <td>100</td>\n",
       "      <td>100</td>\n",
       "      <td>100</td>\n",
       "      <td>100.0</td>\n",
       "      <td>100</td>\n",
       "    </tr>\n",
       "    <tr>\n",
       "      <th>3</th>\n",
       "      <td>100</td>\n",
       "      <td>100</td>\n",
       "      <td>100</td>\n",
       "      <td>100</td>\n",
       "      <td>93.0</td>\n",
       "      <td>100</td>\n",
       "      <td>100</td>\n",
       "      <td>100</td>\n",
       "      <td>100.0</td>\n",
       "      <td>100</td>\n",
       "      <td>100</td>\n",
       "      <td>100</td>\n",
       "      <td>100.0</td>\n",
       "      <td>100</td>\n",
       "    </tr>\n",
       "    <tr>\n",
       "      <th>4</th>\n",
       "      <td>100</td>\n",
       "      <td>100</td>\n",
       "      <td>100</td>\n",
       "      <td>100</td>\n",
       "      <td>93.0</td>\n",
       "      <td>100</td>\n",
       "      <td>100</td>\n",
       "      <td>100</td>\n",
       "      <td>100.0</td>\n",
       "      <td>100</td>\n",
       "      <td>100</td>\n",
       "      <td>100</td>\n",
       "      <td>100.0</td>\n",
       "      <td>100</td>\n",
       "    </tr>\n",
       "  </tbody>\n",
       "</table>\n",
       "</div>"
      ],
      "text/plain": [
       "   pclass  survived name  sex   age  sibsp  parch ticket   fare cabin  \\\n",
       "0     100       100  100  100  93.0    100    100    100  100.0   100   \n",
       "1     100       100  100  100  93.0    100    100    100  100.0   100   \n",
       "2     100       100  100  100  93.0    100    100    100  100.0   100   \n",
       "3     100       100  100  100  93.0    100    100    100  100.0   100   \n",
       "4     100       100  100  100  93.0    100    100    100  100.0   100   \n",
       "\n",
       "  embarked boat   body home.dest  \n",
       "0      100  100  100.0       100  \n",
       "1      100  100  100.0       100  \n",
       "2      100  100  100.0       100  \n",
       "3      100  100  100.0       100  \n",
       "4      100  100  100.0       100  "
      ]
     },
     "execution_count": 45,
     "metadata": {},
     "output_type": "execute_result"
    }
   ],
   "source": [
    "data.head()"
   ]
  },
  {
   "cell_type": "code",
   "execution_count": 51,
   "id": "bdf835b5",
   "metadata": {},
   "outputs": [],
   "source": [
    "from sklearn.model_selection import train_test_split\n",
    "X_train,X_test,y_train,y_test = train_test_split(df[['age','fare']].fillna(0),data['survived'],test_size = 0.3)"
   ]
  },
  {
   "cell_type": "code",
   "execution_count": 74,
   "id": "d226731e",
   "metadata": {},
   "outputs": [],
   "source": [
    "from sklearn.linear_model import LogisticRegression\n",
    "from sklearn.metrics import accuracy_score,roc_auc_score\n",
    "classif = LogisticRegression()\n",
    "classif.fit(X_train,y_train)\n",
    "y_pred = classif.predict(X_test)\n",
    "y_pred1 = classif.predict_proba(X_test)"
   ]
  },
  {
   "cell_type": "code",
   "execution_count": null,
   "id": "4eb7c9bc",
   "metadata": {},
   "outputs": [],
   "source": [
    "print(\"Accuracy Score: {}\".format(accuracy_score(y_test,y_pred)))\n",
    "print(\"roc auc Score: {}\".format(roc_auc_score(y_test,y_pred1[:,1])))"
   ]
  },
  {
   "cell_type": "code",
   "execution_count": 85,
   "id": "9e32ed8d",
   "metadata": {},
   "outputs": [],
   "source": [
    "from sklearn.ensemble import RandomForestClassifier\n",
    "from sklearn.metrics import accuracy_score,roc_auc_score\n",
    "classif = RandomForestClassifier()\n",
    "classif.fit(X_train,y_train)\n",
    "y_pred = classif.predict(X_test)\n",
    "y_pred1 = classif.predict_proba(X_test)"
   ]
  },
  {
   "cell_type": "code",
   "execution_count": null,
   "id": "2a81649a",
   "metadata": {},
   "outputs": [],
   "source": [
    "print(\"Accuracy Score: {}\".format(accuracy_score(y_test,y_pred)))\n",
    "print(\"roc auc Score: {}\".format(roc_auc_score(y_test,y_pred1[:,1])))"
   ]
  },
  {
   "cell_type": "code",
   "execution_count": null,
   "id": "1e34d1ca",
   "metadata": {},
   "outputs": [],
   "source": []
  }
 ],
 "metadata": {
  "kernelspec": {
   "display_name": "Python 3 (ipykernel)",
   "language": "python",
   "name": "python3"
  },
  "language_info": {
   "codemirror_mode": {
    "name": "ipython",
    "version": 3
   },
   "file_extension": ".py",
   "mimetype": "text/x-python",
   "name": "python",
   "nbconvert_exporter": "python",
   "pygments_lexer": "ipython3",
   "version": "3.10.5"
  }
 },
 "nbformat": 4,
 "nbformat_minor": 5
}
