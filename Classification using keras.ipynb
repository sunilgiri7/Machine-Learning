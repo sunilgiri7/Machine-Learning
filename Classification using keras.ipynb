{
 "cells": [
  {
   "cell_type": "code",
   "execution_count": null,
   "id": "f5275716",
   "metadata": {},
   "outputs": [],
   "source": [
    "import tensorflow as tf\n",
    "import pandas as pd"
   ]
  },
  {
   "cell_type": "code",
   "execution_count": null,
   "id": "d646deaa",
   "metadata": {},
   "outputs": [],
   "source": [
    "CSV_COLUMN_NAMES = ['SepalLength','SepalWidth','PetalLength','Species']\n",
    "SPECIES = ['Setosa','Versicolor','Virginica']"
   ]
  },
  {
   "cell_type": "code",
   "execution_count": null,
   "id": "4f6cf60a",
   "metadata": {},
   "outputs": [],
   "source": [
    "train_path = tf.keras.utils.get_file(\n",
    "    \"iris_training.csv\",\"https://storage.googleapis.com/download.tensorflow.org/data/iris_training.csv\")\n",
    "test_path = tf.keras.utils.get_file(\n",
    "    \"iris_training.csv\",\"https://storage.googleapis.com/download.tensorflow.org/data/iris_training.csv\")\n",
    "\n",
    "train = pd.read_csv(train_path, names=CSV_COLUMN_NAMES, header=0)\n",
    "test = pd.read_csv(test_path, names=CSV_COLUMN_NAMES, header=0)"
   ]
  },
  {
   "cell_type": "code",
   "execution_count": null,
   "id": "f1d7fca5",
   "metadata": {},
   "outputs": [],
   "source": [
    "train.head()"
   ]
  },
  {
   "cell_type": "code",
   "execution_count": null,
   "id": "500bf002",
   "metadata": {},
   "outputs": [],
   "source": [
    "train_y = train.pop('Species')\n",
    "test_y = test.pop('Species')\n",
    "train.head()"
   ]
  },
  {
   "cell_type": "code",
   "execution_count": null,
   "id": "fa782945",
   "metadata": {},
   "outputs": [],
   "source": [
    "def input_fn(feature, labels, training=True, batch_size=256):\n",
    "    dataset = tf.data.Dataset.from_tensor_slices((dict(feature), labels))\n",
    "    \n",
    "    if training:\n",
    "        dataset = dataset.shuffle(1000).repeat()\n",
    "        return dataset.batch(batch_size)\n",
    "    \n",
    "my_feature_columns = []\n",
    "for key in train.keys():\n",
    "    my_feature_columns.append(tf.feature_column.numeric_column(key=key))\n",
    "    return my_feature_columns\n",
    "\n",
    "classifier = tf.estimator.DNNClassifier(\n",
    "feature_columns=my_feature_columns,\n",
    "hidden_units=[30,10],\n",
    "n_classes=30)\n",
    "\n",
    "classifier.train(\n",
    "input_fn = lambda:input_fn(train, train_y, training=True),\n",
    "steps=5000)\n",
    "eval_result = classifier.evaluate(input_fn = lambda:input_fn(test, test_y, training=False))"
   ]
  },
  {
   "cell_type": "code",
   "execution_count": null,
   "id": "4070d0d4",
   "metadata": {},
   "outputs": [],
   "source": []
  }
 ],
 "metadata": {
  "kernelspec": {
   "display_name": "Python 3 (ipykernel)",
   "language": "python",
   "name": "python3"
  },
  "language_info": {
   "codemirror_mode": {
    "name": "ipython",
    "version": 3
   },
   "file_extension": ".py",
   "mimetype": "text/x-python",
   "name": "python",
   "nbconvert_exporter": "python",
   "pygments_lexer": "ipython3",
   "version": "3.10.5"
  }
 },
 "nbformat": 4,
 "nbformat_minor": 5
}
